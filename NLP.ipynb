{
 "cells": [
  {
   "cell_type": "code",
   "execution_count": 1,
   "id": "828ce431",
   "metadata": {},
   "outputs": [],
   "source": [
    "import spacy\n",
    "from spacy.matcher import Matcher"
   ]
  },
  {
   "cell_type": "code",
   "execution_count": 2,
   "id": "1998a6e4-1d44-4cc0-88b7-d21793a4a5c3",
   "metadata": {},
   "outputs": [],
   "source": [
    "# Загружаем модель языка и создаем объект nlp\n",
    "nlp = spacy.load('ru_core_news_sm')"
   ]
  },
  {
   "cell_type": "code",
   "execution_count": 12,
   "id": "c1e10b42-5f5d-49a0-b36b-70e58fc7cda3",
   "metadata": {},
   "outputs": [
    {
     "name": "stdin",
     "output_type": "stream",
     "text": [
      "Чем я могу вам помочь?\n",
      " В какое время открывается Российская биржа?\n"
     ]
    },
    {
     "data": {
      "text/html": [
       "<span class=\"tex2jax_ignore\"><svg xmlns=\"http://www.w3.org/2000/svg\" xmlns:xlink=\"http://www.w3.org/1999/xlink\" xml:lang=\"ru\" id=\"62ae78a2a4354f398ac8da55354a3440-0\" class=\"displacy\" width=\"1100\" height=\"312.0\" direction=\"ltr\" style=\"max-width: none; height: 312.0px; color: #000000; background: #ffffff; font-family: Arial; direction: ltr\">\n",
       "<text class=\"displacy-token\" fill=\"currentColor\" text-anchor=\"middle\" y=\"222.0\">\n",
       "    <tspan class=\"displacy-word\" fill=\"currentColor\" x=\"50\">В</tspan>\n",
       "    <tspan class=\"displacy-tag\" dy=\"2em\" fill=\"currentColor\" x=\"50\">ADP</tspan>\n",
       "</text>\n",
       "\n",
       "<text class=\"displacy-token\" fill=\"currentColor\" text-anchor=\"middle\" y=\"222.0\">\n",
       "    <tspan class=\"displacy-word\" fill=\"currentColor\" x=\"225\">какое</tspan>\n",
       "    <tspan class=\"displacy-tag\" dy=\"2em\" fill=\"currentColor\" x=\"225\">DET</tspan>\n",
       "</text>\n",
       "\n",
       "<text class=\"displacy-token\" fill=\"currentColor\" text-anchor=\"middle\" y=\"222.0\">\n",
       "    <tspan class=\"displacy-word\" fill=\"currentColor\" x=\"400\">время</tspan>\n",
       "    <tspan class=\"displacy-tag\" dy=\"2em\" fill=\"currentColor\" x=\"400\">NOUN</tspan>\n",
       "</text>\n",
       "\n",
       "<text class=\"displacy-token\" fill=\"currentColor\" text-anchor=\"middle\" y=\"222.0\">\n",
       "    <tspan class=\"displacy-word\" fill=\"currentColor\" x=\"575\">открывается</tspan>\n",
       "    <tspan class=\"displacy-tag\" dy=\"2em\" fill=\"currentColor\" x=\"575\">VERB</tspan>\n",
       "</text>\n",
       "\n",
       "<text class=\"displacy-token\" fill=\"currentColor\" text-anchor=\"middle\" y=\"222.0\">\n",
       "    <tspan class=\"displacy-word\" fill=\"currentColor\" x=\"750\">Российская</tspan>\n",
       "    <tspan class=\"displacy-tag\" dy=\"2em\" fill=\"currentColor\" x=\"750\">ADJ</tspan>\n",
       "</text>\n",
       "\n",
       "<text class=\"displacy-token\" fill=\"currentColor\" text-anchor=\"middle\" y=\"222.0\">\n",
       "    <tspan class=\"displacy-word\" fill=\"currentColor\" x=\"925\">биржа?</tspan>\n",
       "    <tspan class=\"displacy-tag\" dy=\"2em\" fill=\"currentColor\" x=\"925\">NOUN</tspan>\n",
       "</text>\n",
       "\n",
       "<g class=\"displacy-arrow\">\n",
       "    <path class=\"displacy-arc\" id=\"arrow-62ae78a2a4354f398ac8da55354a3440-0-0\" stroke-width=\"2px\" d=\"M70,177.0 C70,2.0 400.0,2.0 400.0,177.0\" fill=\"none\" stroke=\"currentColor\"/>\n",
       "    <text dy=\"1.25em\" style=\"font-size: 0.8em; letter-spacing: 1px\">\n",
       "        <textPath xlink:href=\"#arrow-62ae78a2a4354f398ac8da55354a3440-0-0\" class=\"displacy-label\" startOffset=\"50%\" side=\"left\" fill=\"currentColor\" text-anchor=\"middle\">case</textPath>\n",
       "    </text>\n",
       "    <path class=\"displacy-arrowhead\" d=\"M70,179.0 L62,167.0 78,167.0\" fill=\"currentColor\"/>\n",
       "</g>\n",
       "\n",
       "<g class=\"displacy-arrow\">\n",
       "    <path class=\"displacy-arc\" id=\"arrow-62ae78a2a4354f398ac8da55354a3440-0-1\" stroke-width=\"2px\" d=\"M245,177.0 C245,89.5 395.0,89.5 395.0,177.0\" fill=\"none\" stroke=\"currentColor\"/>\n",
       "    <text dy=\"1.25em\" style=\"font-size: 0.8em; letter-spacing: 1px\">\n",
       "        <textPath xlink:href=\"#arrow-62ae78a2a4354f398ac8da55354a3440-0-1\" class=\"displacy-label\" startOffset=\"50%\" side=\"left\" fill=\"currentColor\" text-anchor=\"middle\">det</textPath>\n",
       "    </text>\n",
       "    <path class=\"displacy-arrowhead\" d=\"M245,179.0 L237,167.0 253,167.0\" fill=\"currentColor\"/>\n",
       "</g>\n",
       "\n",
       "<g class=\"displacy-arrow\">\n",
       "    <path class=\"displacy-arc\" id=\"arrow-62ae78a2a4354f398ac8da55354a3440-0-2\" stroke-width=\"2px\" d=\"M420,177.0 C420,89.5 570.0,89.5 570.0,177.0\" fill=\"none\" stroke=\"currentColor\"/>\n",
       "    <text dy=\"1.25em\" style=\"font-size: 0.8em; letter-spacing: 1px\">\n",
       "        <textPath xlink:href=\"#arrow-62ae78a2a4354f398ac8da55354a3440-0-2\" class=\"displacy-label\" startOffset=\"50%\" side=\"left\" fill=\"currentColor\" text-anchor=\"middle\">obl</textPath>\n",
       "    </text>\n",
       "    <path class=\"displacy-arrowhead\" d=\"M420,179.0 L412,167.0 428,167.0\" fill=\"currentColor\"/>\n",
       "</g>\n",
       "\n",
       "<g class=\"displacy-arrow\">\n",
       "    <path class=\"displacy-arc\" id=\"arrow-62ae78a2a4354f398ac8da55354a3440-0-3\" stroke-width=\"2px\" d=\"M770,177.0 C770,89.5 920.0,89.5 920.0,177.0\" fill=\"none\" stroke=\"currentColor\"/>\n",
       "    <text dy=\"1.25em\" style=\"font-size: 0.8em; letter-spacing: 1px\">\n",
       "        <textPath xlink:href=\"#arrow-62ae78a2a4354f398ac8da55354a3440-0-3\" class=\"displacy-label\" startOffset=\"50%\" side=\"left\" fill=\"currentColor\" text-anchor=\"middle\">amod</textPath>\n",
       "    </text>\n",
       "    <path class=\"displacy-arrowhead\" d=\"M770,179.0 L762,167.0 778,167.0\" fill=\"currentColor\"/>\n",
       "</g>\n",
       "\n",
       "<g class=\"displacy-arrow\">\n",
       "    <path class=\"displacy-arc\" id=\"arrow-62ae78a2a4354f398ac8da55354a3440-0-4\" stroke-width=\"2px\" d=\"M595,177.0 C595,2.0 925.0,2.0 925.0,177.0\" fill=\"none\" stroke=\"currentColor\"/>\n",
       "    <text dy=\"1.25em\" style=\"font-size: 0.8em; letter-spacing: 1px\">\n",
       "        <textPath xlink:href=\"#arrow-62ae78a2a4354f398ac8da55354a3440-0-4\" class=\"displacy-label\" startOffset=\"50%\" side=\"left\" fill=\"currentColor\" text-anchor=\"middle\">nsubj</textPath>\n",
       "    </text>\n",
       "    <path class=\"displacy-arrowhead\" d=\"M925.0,179.0 L933.0,167.0 917.0,167.0\" fill=\"currentColor\"/>\n",
       "</g>\n",
       "</svg></span>"
      ],
      "text/plain": [
       "<IPython.core.display.HTML object>"
      ]
     },
     "metadata": {},
     "output_type": "display_data"
    }
   ],
   "source": [
    "#question = 'Какое время открытия торгов Американской биржи?'\n",
    "question = input(\"Чем я могу вам помочь?\\n\")\n",
    "doc = nlp(question)\n",
    "#Вывод дерева зависимостей\n",
    "data = spacy.displacy.render(doc, style='dep', jupyter=True)"
   ]
  },
  {
   "cell_type": "code",
   "execution_count": 13,
   "id": "7e24f128-e113-40c4-b9e3-e10f7610db84",
   "metadata": {},
   "outputs": [],
   "source": [
    "# Создаем паттерн для вопроса с пустым полем для названия биржи\n",
    "pattern = [{\"LOWER\": {\"IN\": [\"во\", \"в\"]},'OP': '?'},\n",
    "           {\"LOWER\": {\"IN\": [\"какое\", \"какие\"]},'OP': '?'},\n",
    "           {\"LOWER\": {\"IN\": [\"время\", \"часы\"]},'OP': '?'},\n",
    "           {\"LOWER\": \"сколько\",'OP': '?'},\n",
    "           {\"LOWER\": {\"IN\": [\"открытие\", \"закрытие\"]},'OP': '?'},\n",
    "           {'POS': \"VERB\" ,'OP': '?'},\n",
    "           {\"LOWER\": {\"IN\": [\"торги\", \"торгов\"]},'OP': '?'},\n",
    "           {\"LOWER\": \"на\",'OP': '?'},\n",
    "           {\"POS\": \"ADJ\"},\n",
    "           {\"LOWER\": {\"IN\": [\"бирже\", \"биржа\", \"биржу\", \"биржи\"]}}\n",
    "]\n"
   ]
  },
  {
   "cell_type": "code",
   "execution_count": 14,
   "id": "3ff6cfde-792b-4061-bfdb-81262e011f00",
   "metadata": {},
   "outputs": [],
   "source": [
    "# Инициализируем Matcher и добавляем паттерн\n",
    "matcher = Matcher(nlp.vocab)\n",
    "matcher.add('OPENING_TIME', [pattern])"
   ]
  },
  {
   "cell_type": "code",
   "execution_count": 15,
   "id": "2cc9237d-93a7-43bc-8082-e066ab3095a4",
   "metadata": {},
   "outputs": [],
   "source": [
    "matches = matcher(doc)\n",
    "# matches"
   ]
  },
  {
   "cell_type": "code",
   "execution_count": 16,
   "id": "f758825a-7528-4f64-a8eb-ddaf7a4b403c",
   "metadata": {},
   "outputs": [
    {
     "name": "stdout",
     "output_type": "stream",
     "text": [
      "Найден паттерн: В какое время открывается Российская биржа\n",
      "Найден паттерн: какое время открывается Российская биржа\n",
      "Найден паттерн: время открывается Российская биржа\n",
      "Найден паттерн: открывается Российская биржа\n",
      "Найден паттерн: Российская биржа\n"
     ]
    }
   ],
   "source": [
    "for match_id, start, end in matches:\n",
    "    span = doc[start:end]\n",
    "    print(\"Найден паттерн:\", span.text)"
   ]
  },
  {
   "cell_type": "code",
   "execution_count": 17,
   "id": "a8cf3865-10c4-42ff-83ec-82c125ce122d",
   "metadata": {},
   "outputs": [],
   "source": [
    "# Задаем таблицу с данными о времени работы бирж\n",
    "birzha_timetable = {\n",
    "    'российский': {\n",
    "        'откр': '10:00',\n",
    "        'закр': '18:00'\n",
    "    },\n",
    "    'американский': {\n",
    "        'откр': '09:30',\n",
    "        'закр': '16:00'\n",
    "    },\n",
    "    'японская': {\n",
    "        'откр': '06:00',\n",
    "        'закр': '21:00'\n",
    "    },'китайский': {\n",
    "        'откр': '14:00',\n",
    "        'закр': '23:00'\n",
    "    }\n",
    "}"
   ]
  },
  {
   "cell_type": "code",
   "execution_count": 18,
   "id": "8081b4f0-8340-4f44-9efd-1b01d48f440a",
   "metadata": {},
   "outputs": [
    {
     "name": "stdout",
     "output_type": "stream",
     "text": [
      "В 10:00 по Московскому времени.\n"
     ]
    }
   ],
   "source": [
    "if matches:\n",
    "    match_id, start, end = matches[0]\n",
    "    for token in doc:\n",
    "        if token.pos_ == \"ADJ\": \n",
    "            birzha_name = token.lemma_\n",
    "            #print(token.text, token.lemma_, token.pos_) \n",
    "        if token.pos_ == \"VERB\":\n",
    "            state = (token.lemma_)[0:4]\n",
    "    if birzha_name in birzha_timetable:\n",
    "        print(f\"В {birzha_timetable[birzha_name][state]} по Московскому времени.\")\n",
    "    else:\n",
    "        print('Извините, информации о времени работы данной биржи нет.')"
   ]
  },
  {
   "cell_type": "code",
   "execution_count": 19,
   "id": "4c30ee06-7214-4f8e-a528-a68fd147e260",
   "metadata": {},
   "outputs": [],
   "source": [
    "questions = ['Во сколько (открытие) торгов на () бирже?',\n",
    "     'Американская биржа открывается в какое время?',\n",
    "     'В какое время закрывается Российская биржа?',\n",
    "     'Во сколько закрывается Американская биржа?',\n",
    "     'Азиатская биржа закрывается во сколько?',\n",
    "     'Когда закрытие торгов на Европейской бирже?']"
   ]
  },
  {
   "cell_type": "code",
   "execution_count": null,
   "id": "6c9a47c7-05a6-4437-b5d4-5f806b7ac145",
   "metadata": {},
   "outputs": [],
   "source": [
    "igor-kashirin@mail.ru"
   ]
  },
  {
   "cell_type": "code",
   "execution_count": null,
   "id": "eff8dfc4-0532-4725-b231-91f6a601b2ae",
   "metadata": {},
   "outputs": [],
   "source": []
  },
  {
   "cell_type": "code",
   "execution_count": null,
   "id": "3e22e9f1-365f-417b-8887-0f809a5e7ef0",
   "metadata": {},
   "outputs": [],
   "source": []
  },
  {
   "cell_type": "code",
   "execution_count": null,
   "id": "b9ede28b-d260-4635-b04c-4b0888ac91e9",
   "metadata": {},
   "outputs": [],
   "source": []
  }
 ],
 "metadata": {
  "kernelspec": {
   "display_name": "Python 3 (ipykernel)",
   "language": "python",
   "name": "python3"
  },
  "language_info": {
   "codemirror_mode": {
    "name": "ipython",
    "version": 3
   },
   "file_extension": ".py",
   "mimetype": "text/x-python",
   "name": "python",
   "nbconvert_exporter": "python",
   "pygments_lexer": "ipython3",
   "version": "3.11.5"
  }
 },
 "nbformat": 4,
 "nbformat_minor": 5
}
